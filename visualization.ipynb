{
 "cells": [
  {
   "cell_type": "code",
   "execution_count": 1,
   "id": "8a97556e-946e-4411-8b49-baf2f91f5c34",
   "metadata": {},
   "outputs": [],
   "source": [
    "import pandas as pd\n",
    "import numpy as np\n",
    "import matplotlib.pyplot as plt\n",
    "import os\n",
    "\n",
    "#85 age groups, 100 days, 1560 points"
   ]
  },
  {
   "cell_type": "code",
   "execution_count": 10,
   "id": "66224bd8-085a-4c69-a7b8-e64ce1b7633e",
   "metadata": {},
   "outputs": [
    {
     "name": "stdout",
     "output_type": "stream",
     "text": [
      "['pred_mu', 'pred_cov', 'truth'] (1560, 85, 100) (85, 100) (100,)\n"
     ]
    }
   ],
   "source": [
    "sfnp = np.load(\"/Users/amoghvp/Documents/Github/hier-neural-proc/sir_np/MA/SFNP/sfnp_results/test_seed37.npz\")\n",
    "print(sfnp.files, sfnp[\"truth\"].shape, sfnp[\"truth\"][0].shape, sfnp[\"truth\"][0][0].shape,)"
   ]
  },
  {
   "cell_type": "code",
   "execution_count": 9,
   "id": "8b53038d-5c19-4822-8660-a35fb5f91c7c",
   "metadata": {},
   "outputs": [
    {
     "name": "stdout",
     "output_type": "stream",
     "text": [
      "['pred_mu', 'pred_cov', 'truth'] (1560, 85, 100) (85, 100) (100,)\n"
     ]
    }
   ],
   "source": [
    "mfnp = np.load(\"/Users/amoghvp/Documents/Github/hier-neural-proc/sir_np/MA/MFNP/mfnp_results/test_seed69.npz\")\n",
    "print(mfnp.files, mfnp[\"truth\"].shape, mfnp[\"truth\"][0].shape, mfnp[\"truth\"][0][0].shape)"
   ]
  },
  {
   "cell_type": "code",
   "execution_count": 20,
   "id": "be495629-2174-45c5-9bcd-6b02608f9c22",
   "metadata": {},
   "outputs": [
    {
     "data": {
      "text/plain": [
       "(3, 1560, 8500)"
      ]
     },
     "execution_count": 20,
     "metadata": {},
     "output_type": "execute_result"
    }
   ],
   "source": [
    "temp = np.load(\"/Users/amoghvp/Documents/Github/hier-neural-proc/sir_gp/results/nargp_mean.npy\")\n",
    "temp.shape\n",
    "#mae, nll are a length 3 array\n",
    "#mean and std is a 3x1560x8500 numpy array\n",
    "#truth is a 1560x8500 numpy array"
   ]
  },
  {
   "cell_type": "code",
   "execution_count": null,
   "id": "adbecdf4-cd34-4242-83f7-b2fae9a74018",
   "metadata": {},
   "outputs": [],
   "source": [
    "nargp = np.load(\"/Users/amoghvp/Documents/Github/hier-neural-proc/sir_gp/results/test_seed69.npz\")\n",
    "print(nargp.files, nargp[\"truth\"].shape, nargp[\"truth\"][0].shape, nargp[\"truth\"][0][0].shape)"
   ]
  },
  {
   "cell_type": "code",
   "execution_count": 38,
   "id": "e8938431-da08-41f1-883d-e1d1bcb3290a",
   "metadata": {},
   "outputs": [],
   "source": [
    "plt.plot()\n",
    "plt.title(\"SFNP Results\")\n",
    "plt.xlabel(\"X axis\")\n",
    "plt.ylabel(\"Y axis\")\n",
    "\n"
   ]
  },
  {
   "cell_type": "code",
   "execution_count": 51,
   "id": "bd2dc76d-2f69-41ab-a327-37264a6c496f",
   "metadata": {},
   "outputs": [],
   "source": [
    "final_y = [0] * 100"
   ]
  },
  {
   "cell_type": "code",
   "execution_count": 83,
   "id": "97604247-425d-4599-b662-e21361126b68",
   "metadata": {},
   "outputs": [],
   "source": [
    "for i in range(len(sfnp[\"truth\"])):\n",
    "    for j in [10, 30, 50, 70]:\n",
    "        #plt.ylim([0.0, 10.0])\n",
    "        #y = np.array([i for i in npz[\"truth\"][i][j-1]])\n",
    "        #x = np.array([i for i in range(1,101)])\n",
    "        #plt.plot(x, y, color = \"blue\")\n",
    "        final_y = [k + l for k,l  in zip(final_y, sfnp[\"truth\"][i][j-1])]\n",
    "#        final_y.append([i for i in npz[\"truth\"][i][j-1]])\n",
    "    "
   ]
  },
  {
   "cell_type": "code",
   "execution_count": 84,
   "id": "e6733734-9f2e-4f05-aea1-5882382b6957",
   "metadata": {},
   "outputs": [
    {
     "data": {
      "image/png": "[encoded data removed]",
      "text/plain": [
       "<Figure size 432x288 with 1 Axes>"
      ]
     },
     "metadata": {
      "needs_background": "light"
     },
     "output_type": "display_data"
    }
   ],
   "source": [
    "x = np.array([i for i in range(1,101)])\n",
    "final_y = np.divide(final_y, len(sfnp[\"truth\"]))\n",
    "plt.plot(x, final_y, color = \"blue\")\n",
    "\n",
    "\n",
    "\n",
    "plt.show()"
   ]
  },
  {
   "cell_type": "code",
   "execution_count": null,
   "id": "560ff08c-334f-4d8f-b3c1-f1b1299e00fe",
   "metadata": {},
   "outputs": [],
   "source": []
  }
 ],
 "metadata": {
  "kernelspec": {
   "display_name": "Python 3 (ipykernel)",
   "language": "python",
   "name": "python3"
  },
  "language_info": {
   "codemirror_mode": {
    "name": "ipython",
    "version": 3
   },
   "file_extension": ".py",
   "mimetype": "text/x-python",
   "name": "python",
   "nbconvert_exporter": "python",
   "pygments_lexer": "ipython3",
   "version": "3.9.15"
  }
 },
 "nbformat": 4,
 "nbformat_minor": 5
}
